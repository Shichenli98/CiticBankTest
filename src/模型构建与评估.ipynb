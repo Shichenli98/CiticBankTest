{
 "cells": [
  {
   "cell_type": "markdown",
   "metadata": {},
   "source": [
    "# 模型构建、训练与评估"
   ]
  },
  {
   "cell_type": "code",
   "execution_count": 2,
   "metadata": {},
   "outputs": [],
   "source": [
    "import pandas as pd\n",
    "import matplotlib.pyplot as plt\n",
    "from sklearn.metrics.pairwise import cosine_similarity\n",
    "import numpy as np\n",
    "\n",
    "import warnings\n",
    "warnings.filterwarnings('ignore')\n",
    "\n",
    "# 为了在plt中正确显示中文\n",
    "plt.rcParams['font.sans-serif'] = ['Arial Unicode MS']\n",
    "plt.rcParams['axes.unicode_minus'] = False"
   ]
  },
  {
   "cell_type": "markdown",
   "metadata": {},
   "source": [
    "## 1 加载训练/测试数据"
   ]
  },
  {
   "cell_type": "code",
   "execution_count": 3,
   "metadata": {},
   "outputs": [],
   "source": [
    "# 加载数据\n",
    "fund_data = pd.read_csv('../data/processed/基金processed.csv')\n",
    "\n",
    "client_train_x = pd.read_csv('../data/processed/客户train_x.csv')\n",
    "rating_train = pd.read_csv('../data/processed/评分train.csv')\n",
    "\n",
    "client_test_x = pd.read_csv('../data/processed/客户test_x.csv')\n",
    "rating_test = pd.read_csv('../data/processed/评分test.csv')"
   ]
  },
  {
   "cell_type": "markdown",
   "metadata": {},
   "source": [
    "## 2 基础模型的选择与构建、以及评估"
   ]
  },
  {
   "cell_type": "markdown",
   "metadata": {},
   "source": [
    "基础模型, 我们首先考虑非深度学习模型, 比如:\n",
    "1. 协同过滤: pros:只需要客户/基金的交互数据即可进行运算, 速度很快; cons:忽略了大量特征信息, 且它所依赖的评分数据是我们人为构建的.\n",
    "2. content-based推荐: pros:可以根据客户对基金的喜好进行类似基金的推荐, 或对拥有类似特征的客户推荐基金, 计算成本低; cons: 没有对客户和基金的特征进行交叉计算, 可能会忽略他们之间的相关性\n",
    "3. 因子分解机: pros:能够模拟特征之间的所有交互，适用于数据稀疏的情况，同时能够集成多种类型的数据; cons:训练过程相对复杂和计算密集.\n",
    "\n",
    "由于我们有充足的客户/基金数据, 且特征数量较多, 我们可以选择能充分利用特征的模型, 所以我们将:\n",
    "1. 以content-based方法开始, 实现最快最直观的推荐\n",
    "2. 进一步迁移到其他模型, 比如充分利用特征交叉的因子分解机FM\n",
    "3. 如果计算资源条件允许, 且对于精度要求很高, 那么考虑使用深度学习模型, 比如DeepFM"
   ]
  },
  {
   "cell_type": "markdown",
   "metadata": {},
   "source": [
    "### 2.1 Content-Based 推荐\n",
    "\n",
    "1. 此方法不需要区分训练/测试集, 直接通过向量之间的距离进行计算, 这里以测试集为例. \n",
    "2. 对于最佳的推荐选项, 我选择了 相似度*评分\n",
    "3. 对于此方法的评估方法, 可以根据推荐结果的top-n选项进行accuracy和recall rate的评估"
   ]
  },
  {
   "cell_type": "markdown",
   "metadata": {},
   "source": [
    "#### 2.1a 基于客户相似度的推荐"
   ]
  },
  {
   "cell_type": "code",
   "execution_count": 4,
   "metadata": {},
   "outputs": [
    {
     "name": "stdout",
     "output_type": "stream",
     "text": [
      "       Top_1  Top_2  Top_3  Top_4  Top_5  Top_6  Top_7  Top_8\n",
      "C1936  J0144  J0122  J0022  J0018  J0118  J0155  J0076  J0063\n",
      "C6495  J0145  J0029  J0009  J0185  J0054  J0111  J0070  J0183\n",
      "C1721  J0151  J0009  J0136  J0097  J0110  J0135  J0167  J0172\n",
      "C9121  J0075  J0039  J0022  J0154  J0169  J0064  J0193  J0016\n",
      "C0361  J0168  J0126  J0144  J0131  J0107  J0065  J0027  J0071\n"
     ]
    }
   ],
   "source": [
    "# 构建客户索引映射\n",
    "client_index_mapping = {client_id: i for i, client_id in enumerate(client_test_x['客户编号'].unique())}\n",
    "fund_index_mapping = {i: fund_id for i, fund_id in enumerate(rating_test.columns)}\n",
    "\n",
    "num_clients = len(client_index_mapping)\n",
    "num_funds = rating_test.shape[1] - 1\n",
    "\n",
    "# 构建评分矩阵\n",
    "rating_matrix = rating_test.drop('客户编号', axis=1).values\n",
    "\n",
    "# 计算客户之间的余弦相似度\n",
    "client_similarities = cosine_similarity(client_test_x.drop('客户编号', axis=1))\n",
    "\n",
    "# 计算推荐分数\n",
    "recommendation_scores = np.dot(client_similarities, rating_matrix)\n",
    "\n",
    "# 选择每个客户的顶部基金推荐\n",
    "top_n = 8\n",
    "top_recommendations = np.argsort(recommendation_scores, axis=1)[:, -top_n:]\n",
    "\n",
    "# 转换推荐结果为DataFrame\n",
    "client_ids = client_test_x['客户编号'].values\n",
    "fund_ids = [fund_index_mapping[i] for i in range(num_funds)]\n",
    "recommendation_df = pd.DataFrame(top_recommendations, index=client_ids, columns=[f'Top_{i+1}' for i in range(top_n)])\n",
    "recommendation_df = recommendation_df.applymap(lambda x: fund_ids[x])\n",
    "\n",
    "print(recommendation_df.head())\n"
   ]
  },
  {
   "cell_type": "markdown",
   "metadata": {},
   "source": [
    "#### 2.1b 基于基金相似度的推荐"
   ]
  },
  {
   "cell_type": "code",
   "execution_count": 9,
   "metadata": {},
   "outputs": [
    {
     "name": "stdout",
     "output_type": "stream",
     "text": [
      "       Top_1  Top_2  Top_3  Top_4  Top_5  Top_6  Top_7  Top_8\n",
      "C1936  J0099  J0165  J0195  J0081  J0082  J0004  J0012  J0096\n",
      "C6495  J0068  J0069  J0070  J0071  J0072  J0073  J0063  J0200\n",
      "C1721  J0153  J0174  J0161  J0169  J0136  J0100  J0098  J0173\n",
      "C9121  J0068  J0069  J0070  J0071  J0072  J0073  J0063  J0200\n",
      "C0361  J0068  J0069  J0070  J0071  J0072  J0073  J0063  J0200\n"
     ]
    }
   ],
   "source": [
    "# 计算基金之间的余弦相似度\n",
    "fund_similarities = cosine_similarity(fund_data.drop('基金代码', axis=1))\n",
    "\n",
    "# 创建基金索引映射\n",
    "fund_index_mapping = {fund_id: i for i, fund_id in enumerate(fund_data['基金代码'].unique())}\n",
    "\n",
    "# 创建评分矩阵，初始值为0\n",
    "num_clients = client_test_x['客户编号'].nunique()\n",
    "num_funds = len(fund_index_mapping)\n",
    "rating_matrix = rating_test.drop('客户编号', axis=1).values\n",
    "\n",
    "# 使用相似度和评分计算推荐分数\n",
    "recommendation_scores = np.dot(rating_matrix, fund_similarities)\n",
    "\n",
    "# 选择每个客户的顶部基金推荐\n",
    "top_n = 8\n",
    "top_recommendations = np.argsort(recommendation_scores, axis=1)[:, -top_n:]\n",
    "\n",
    "# 转换推荐结果为DataFrame\n",
    "client_ids = list(client_index_mapping.keys())\n",
    "fund_ids = list(fund_index_mapping.keys())\n",
    "recommendation_df = pd.DataFrame(top_recommendations, index=client_ids, columns=[f'Top_{i+1}' for i in range(top_n)])\n",
    "recommendation_df = recommendation_df.applymap(lambda x: fund_ids[x])\n",
    "\n",
    "print(recommendation_df.head())\n"
   ]
  },
  {
   "cell_type": "markdown",
   "metadata": {},
   "source": [
    "### 2.2 因子分解机FM"
   ]
  },
  {
   "cell_type": "code",
   "execution_count": null,
   "metadata": {},
   "outputs": [],
   "source": [
    "from fastFM import als\n",
    "from scipy.sparse import csr_matrix, hstack\n",
    "from sklearn.metrics import mean_squared_error, mean_absolute_error, accuracy_score, recall_score, precision_score"
   ]
  },
  {
   "cell_type": "code",
   "execution_count": null,
   "metadata": {},
   "outputs": [],
   "source": [
    "# 处理客户和基金数据, 使之结合成大的稀疏矩阵, 作为训练/测试集的X\n",
    "def prepare_fm_data(client_data, fund_data):\n",
    "\n",
    "    # 创建客户和基金的 one-hot 编码矩阵\n",
    "    client_onehot = csr_matrix(pd.get_dummies(client_data['客户编号'], sparse=True))\n",
    "    fund_onehot = csr_matrix(pd.get_dummies(fund_data['基金代码'], sparse=True))\n",
    "\n",
    "    # 将数值特征转换为稀疏矩阵\n",
    "    client_features = csr_matrix(client_data.drop(['客户编号'], axis=1).values)\n",
    "    fund_features = csr_matrix(fund_data.drop(['基金代码'], axis=1).values)\n",
    "\n",
    "    # 合并所有特征为一个大的稀疏矩阵\n",
    "    X = hstack([client_onehot, fund_onehot, client_features, fund_features])\n",
    "\n",
    "    return X"
   ]
  },
  {
   "cell_type": "code",
   "execution_count": null,
   "metadata": {},
   "outputs": [],
   "source": [
    "# 构建FM模型并训练\n",
    "\n",
    "# 客户和基金的索引映射需要在训练集上创建，并在测试集上使用相同的映射\n",
    "client_index_mapping = {client_id: i for i, client_id in enumerate(client_train_x['客户编号'].unique())}\n",
    "fund_index_mapping = {fund_id: i for i, fund_id in enumerate(fund_data['基金代码'].unique())}\n",
    "\n",
    "# 处理训练数据\n",
    "X_train = prepare_fm_data(client_train_x, fund_data)\n",
    "y_train = rating_train\n",
    "\n",
    "# 处理测试数据\n",
    "X_test = prepare_fm_data(client_test_x, fund_data)\n",
    "y_test = rating_test\n",
    "\n",
    "# 使用 FM 模型进行训练和预测\n",
    "fm = als.FMRegression(n_iter=1000, init_stdev=0.1, rank=2, l2_reg_w=0.1, l2_reg_V=0.5)\n",
    "fm.fit(X_train, y_train)"
   ]
  },
  {
   "cell_type": "markdown",
   "metadata": {},
   "source": [
    "### 2.3 DeepFM"
   ]
  },
  {
   "cell_type": "code",
   "execution_count": null,
   "metadata": {},
   "outputs": [],
   "source": [
    "from deepctr.models import DeepFM"
   ]
  },
  {
   "cell_type": "code",
   "execution_count": null,
   "metadata": {},
   "outputs": [],
   "source": [
    "# 处理训练数据\n",
    "X_train = prepare_fm_data(client_train_x, fund_data)\n",
    "y_train = rating_train\n",
    "\n",
    "# 处理测试数据\n",
    "X_test = prepare_fm_data(client_test_x, fund_data)\n",
    "y_test = rating_test\n",
    "\n",
    "# 取出所有的列名\n",
    "all_feature_columns = X_train.columns.tolist()\n",
    "\n",
    "# 为DeepFM创建特征列\n",
    "linear_feature_columns = all_feature_columns\n",
    "dnn_feature_columns = all_feature_columns\n",
    "\n",
    "# 创建DeepFM模型\n",
    "task_type = 'regression'\n",
    "deepfm_model = DeepFM(linear_feature_columns, dnn_feature_columns, task=task_type)\n",
    "\n",
    "# 编译模型\n",
    "deepfm_model.compile(optimizer='adam', loss='mean_squared_error' if task_type == 'regression' else 'binary_crossentropy')\n",
    "\n",
    "# 训练模型\n",
    "deepfm_model.fit(X_train, y_train, batch_size=64, epochs=10, validation_split=0.2)\n"
   ]
  },
  {
   "cell_type": "markdown",
   "metadata": {},
   "source": [
    "## 3 模型的评估: 离线指标与线上指标"
   ]
  },
  {
   "cell_type": "markdown",
   "metadata": {},
   "source": [
    "### 3.1 离线指标\n",
    "\n",
    "除了从数学角度选取了基于连续值的RMSE、MAE, 我们还选取了具有实际意义的基于离散值指标:\n",
    "1. 准确率（Accuracy）：衡量模型正确推荐用户感兴趣的基金的比例。这样可以通过减少错误的推荐，确保用户看到的基金是他们可能真正感兴趣的, 提高用户体验\n",
    "2. 召回率（Recall）：衡量模型成功推荐用户感兴趣的基金的比例，考虑了模型漏掉的推荐。高召回率表示模型能够捕捉到更多用户的兴趣，确保不错过可能的好机会"
   ]
  },
  {
   "cell_type": "code",
   "execution_count": null,
   "metadata": {},
   "outputs": [],
   "source": [
    "# 预测测试集上的评分\n",
    "model = fm\n",
    "y_pred = model.predict(X_test)\n",
    "\n",
    "# 计算均方根误差（RMSE）和平均绝对误差（MAE）（不进行二值化处理）\n",
    "rmse = np.sqrt(mean_squared_error(rating_test, y_pred))\n",
    "mae = mean_absolute_error(rating_test, y_pred)\n",
    "\n",
    "print(\"RMSE:\", rmse)\n",
    "print(\"MAE:\", mae)\n",
    "\n",
    "\n",
    "# 将预测评分二值化，只要评分不为0，就记为1\n",
    "y_pred_binary = (y_pred > 0).astype(int)\n",
    "\n",
    "# 计算准确率、召回率和精确度\n",
    "accuracy = accuracy_score(rating_test > 0, y_pred_binary)\n",
    "recall = recall_score(rating_test > 0, y_pred_binary, average='micro')\n",
    "precision = precision_score(rating_test > 0, y_pred_binary, average='micro')\n",
    "\n",
    "print(\"Accuracy (1/0):\", accuracy)\n",
    "print(\"Recall (1/0):\", recall)\n",
    "print(\"Precision (1/0):\", precision)"
   ]
  },
  {
   "cell_type": "markdown",
   "metadata": {},
   "source": [
    "### 3.2 线上指标\n",
    "如果有机会将模型上线, 那么可以选取:\n",
    "1. 点击率（CTR）：衡量用户点击推荐内容的比例。CTR衡量了客户对推荐内容的兴趣程度\n",
    "2. 转化率（Conversion Rate）：我们的目标是促使客户购买基金，所以转化率是一个关键指标，它衡量了成功推荐的比例"
   ]
  }
 ],
 "metadata": {
  "kernelspec": {
   "display_name": "Python 3",
   "language": "python",
   "name": "python3"
  },
  "language_info": {
   "codemirror_mode": {
    "name": "ipython",
    "version": 3
   },
   "file_extension": ".py",
   "mimetype": "text/x-python",
   "name": "python",
   "nbconvert_exporter": "python",
   "pygments_lexer": "ipython3",
   "version": "3.9.6"
  }
 },
 "nbformat": 4,
 "nbformat_minor": 2
}
